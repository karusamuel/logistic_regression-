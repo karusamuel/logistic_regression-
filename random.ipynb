{
 "cells": [
  {
   "cell_type": "code",
   "execution_count": 25,
   "metadata": {},
   "outputs": [],
   "source": [
    "import numpy as np\n",
    "import pandas as pd\n"
   ]
  },
  {
   "cell_type": "code",
   "execution_count": 26,
   "metadata": {},
   "outputs": [],
   "source": [
    "# Define categories for each column\n",
    "categories_col1 = ['A', 'B', 'C',None]\n",
    "categories_col2 = ['X', 'Y',None]\n",
    "categories_col3 = ['M', 'N', 'O', 'P']"
   ]
  },
  {
   "cell_type": "code",
   "execution_count": 27,
   "metadata": {},
   "outputs": [],
   "source": [
    "# Number of samples you want to generate\n",
    "n_samples = 100"
   ]
  },
  {
   "cell_type": "code",
   "execution_count": 28,
   "metadata": {},
   "outputs": [],
   "source": [
    "# Generate random categorical data for each column\n",
    "data_col1 = np.random.choice(categories_col1, size=n_samples, replace=True)\n",
    "data_col2 = np.random.choice(categories_col2, size=n_samples, replace=True)\n",
    "data_col3 = np.random.choice(categories_col3, size=n_samples, replace=True)\n"
   ]
  },
  {
   "cell_type": "code",
   "execution_count": 29,
   "metadata": {},
   "outputs": [
    {
     "name": "stdout",
     "output_type": "stream",
     "text": [
      "  Category1 Category2 Category3\n",
      "0         A         X         P\n",
      "1      None      None         P\n",
      "2         C         Y         P\n",
      "3         B         X         O\n",
      "4      None      None         M\n"
     ]
    }
   ],
   "source": [
    "# Create a DataFrame\n",
    "df = pd.DataFrame({\n",
    "    'Category1': data_col1,\n",
    "    'Category2': data_col2,\n",
    "    'Category3': data_col3\n",
    "})\n",
    "\n",
    "# Display the first few rows\n",
    "print(df.head())"
   ]
  },
  {
   "cell_type": "code",
   "execution_count": 30,
   "metadata": {},
   "outputs": [
    {
     "data": {
      "text/plain": [
       "Category1    30\n",
       "Category2    34\n",
       "Category3     0\n",
       "dtype: int64"
      ]
     },
     "execution_count": 30,
     "metadata": {},
     "output_type": "execute_result"
    }
   ],
   "source": [
    "df.isna().sum()"
   ]
  }
 ],
 "metadata": {
  "kernelspec": {
   "display_name": "venv",
   "language": "python",
   "name": "python3"
  },
  "language_info": {
   "codemirror_mode": {
    "name": "ipython",
    "version": 3
   },
   "file_extension": ".py",
   "mimetype": "text/x-python",
   "name": "python",
   "nbconvert_exporter": "python",
   "pygments_lexer": "ipython3",
   "version": "3.12.3"
  }
 },
 "nbformat": 4,
 "nbformat_minor": 2
}
